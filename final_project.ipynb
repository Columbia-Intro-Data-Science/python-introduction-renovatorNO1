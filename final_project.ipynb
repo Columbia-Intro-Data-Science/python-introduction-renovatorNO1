{
 "cells": [
  {
   "cell_type": "markdown",
   "metadata": {},
   "source": [
    "### Get data"
   ]
  },
  {
   "cell_type": "code",
   "execution_count": 78,
   "metadata": {
    "collapsed": false
   },
   "outputs": [],
   "source": [
    "import pandas as pd\n",
    "import statsmodels.api as sm\n",
    "from sklearn.cross_validation import KFold\n",
    "from sklearn.metrics import confusion_matrix\n",
    "from sklearn.preprocessing import StandardScaler\n",
    "from sklearn.linear_model import LogisticRegression\n",
    "from sklearn.svm import SVC\n",
    "from sklearn.ensemble import RandomForestClassifier as RF\n",
    "from sklearn.neighbors import KNeighborsClassifier as KNN\n",
    "import numpy as np\n",
    "import matplotlib.pyplot as plt\n",
    "from sklearn.metrics import roc_curve, auc\n",
    "from sklearn.utils import shuffle\n",
    "from sklearn.metrics import roc_curve, auc\n",
    "import pylab\n",
    "from sklearn import svm\n",
    "from sklearn.linear_model import LogisticRegression\n",
    "from sklearn.linear_model import Ridge\n",
    "from sklearn.ensemble import RandomForestClassifier\n",
    "# from mpl_toolkits.basemap import Basemap\n",
    "import re\n",
    "import pylab as plt\n",
    "import seaborn\n",
    "from sklearn.linear_model import LinearRegression\n",
    "import numpy.random as nprnd\n",
    "pd.set_option('display.max_columns', 500)\n",
    "%matplotlib inline\n",
    "import random"
   ]
  },
  {
   "cell_type": "code",
   "execution_count": 79,
   "metadata": {
    "collapsed": false
   },
   "outputs": [
    {
     "name": "stdout",
     "output_type": "stream",
     "text": [
      "Index(['ZIPCODE', 'RESIDENTIAL_UNITS', 'COMMERCIAL_UNITS', 'GROSS_SQUARE_FEET',\n",
      "       'AGE', 'TAX_CLASS', 'BUILDING_CLASS', 'SALE_PRICE'],\n",
      "      dtype='object')\n"
     ]
    }
   ],
   "source": [
    "df = pd.read_csv('brooklyn_clean_final.csv', index_col=0)\n",
    "print(df.columns)\n",
    "\n",
    "X = df.drop(['SALE_PRICE'], 1)\n",
    "y = df[['SALE_PRICE']]\n",
    "y_classified = y.copy(True)\n",
    "row_num = X.shape[0]\n",
    "\n",
    "#print(X['11228'])  \n",
    "#print(X.head(100))\n",
    "\n",
    "def add_zipcode(zipcodes):\n",
    "    for zipcode in zipcodes:\n",
    "        zeros = np.zeros(row_num+1)\n",
    "        s = pd.Series(zeros)\n",
    "        key = str(zipcode)\n",
    "        X[key] = s\n",
    "        for pos in range(0,row_num):\n",
    "            if X.iloc[pos]['ZIPCODE'] == zipcode:\n",
    "                X.set_value(pos+1, key, 1)\n",
    "                \n",
    "def add_taxclass(taxclass):\n",
    "    for tax in taxclass:\n",
    "        zeros = np.zeros(row_num+1)\n",
    "        s = pd.Series(zeros)\n",
    "        key = str(tax)\n",
    "        X[\"TAX:\"+key] = s\n",
    "        for pos in range(0,row_num):\n",
    "            if X.iloc[pos]['TAX_CLASS'] == tax:\n",
    "                X.set_value(pos+1, \"TAX:\"+key, 1)\n",
    "                \n",
    "\n",
    "def add_buildingclass(buildingclass):\n",
    "    for building in buildingclass:\n",
    "        zeros = np.zeros(row_num+1)\n",
    "        s = pd.Series(zeros)\n",
    "        key = str(building)\n",
    "        X[\"building:\"+key] = s\n",
    "        for pos in range(0,row_num):\n",
    "            if X.iloc[pos]['TAX_CLASS'] == building:\n",
    "                X.set_value(pos+1, \"building:\"+key, 1)\n",
    "\n",
    "zipcodes = [11239, 11236,11208,11207,11234,11203,11212,11224,11210,\n",
    "            11229,11233,11228,11204,11214,11221,11209,11235,11213,11223,11220,\n",
    "            11219,11218,11230,11226,11232,11237,11216,11225,11231,11215,11222,11217,11238,11206,11205,11211,11249,11201]\n",
    "taxclass = [1,2,4]\n",
    "buildingclass = np.arange(1, 219)\n",
    "\n",
    "\n",
    "add_zipcode(zipcodes)\n",
    "add_taxclass(taxclass)\n",
    "add_buildingclass(buildingclass)\n"
   ]
  },
  {
   "cell_type": "code",
   "execution_count": 80,
   "metadata": {
    "collapsed": false
   },
   "outputs": [
    {
     "name": "stdout",
     "output_type": "stream",
     "text": [
      "   RESIDENTIAL_UNITS  COMMERCIAL_UNITS  GROSS_SQUARE_FEET  AGE  \\\n",
      "1                  1                 0               1660   87   \n",
      "\n",
      "   BUILDING_CLASS  11239  11236  11208  11207  11234  11203  11212  11224  \\\n",
      "1               6    0.0    0.0    0.0    0.0    0.0    0.0    0.0    0.0   \n",
      "\n",
      "   11210  11229  11233  11228  11204  11214  11221  11209  11235  11213  \\\n",
      "1    0.0    0.0    0.0    1.0    0.0    0.0    0.0    0.0    0.0    0.0   \n",
      "\n",
      "   11223  11220  11219  11218  11230  11226  11232  11237  11216  11225  \\\n",
      "1    0.0    0.0    0.0    0.0    0.0    0.0    0.0    0.0    0.0    0.0   \n",
      "\n",
      "   11231  11215  11222  11217  11238  11206  11205  11211  11249  11201  \\\n",
      "1    0.0    0.0    0.0    0.0    0.0    0.0    0.0    0.0    0.0    0.0   \n",
      "\n",
      "   TAX:1  TAX:2  TAX:4  building:1  building:2  building:3  building:4  \\\n",
      "1    1.0    0.0    0.0         1.0         0.0         0.0         0.0   \n",
      "\n",
      "   building:5  building:6  building:7  building:8  building:9  building:10  \\\n",
      "1         0.0         0.0         0.0         0.0         0.0          0.0   \n",
      "\n",
      "   building:11  building:12  building:13  building:14  building:15  \\\n",
      "1          0.0          0.0          0.0          0.0          0.0   \n",
      "\n",
      "   building:16  building:17  building:18  building:19  building:20  \\\n",
      "1          0.0          0.0          0.0          0.0          0.0   \n",
      "\n",
      "   building:21  building:22  building:23  building:24  building:25  \\\n",
      "1          0.0          0.0          0.0          0.0          0.0   \n",
      "\n",
      "   building:26  building:27  building:28  building:29  building:30  \\\n",
      "1          0.0          0.0          0.0          0.0          0.0   \n",
      "\n",
      "   building:31  building:32  building:33  building:34  building:35  \\\n",
      "1          0.0          0.0          0.0          0.0          0.0   \n",
      "\n",
      "   building:36  building:37  building:38  building:39  building:40  \\\n",
      "1          0.0          0.0          0.0          0.0          0.0   \n",
      "\n",
      "   building:41  building:42  building:43  building:44  building:45  \\\n",
      "1          0.0          0.0          0.0          0.0          0.0   \n",
      "\n",
      "   building:46  building:47  building:48  building:49  building:50  \\\n",
      "1          0.0          0.0          0.0          0.0          0.0   \n",
      "\n",
      "   building:51  building:52  building:53  building:54  building:55  \\\n",
      "1          0.0          0.0          0.0          0.0          0.0   \n",
      "\n",
      "   building:56  building:57  building:58  building:59  building:60  \\\n",
      "1          0.0          0.0          0.0          0.0          0.0   \n",
      "\n",
      "   building:61  building:62  building:63  building:64  building:65  \\\n",
      "1          0.0          0.0          0.0          0.0          0.0   \n",
      "\n",
      "   building:66  building:67  building:68  building:69  building:70  \\\n",
      "1          0.0          0.0          0.0          0.0          0.0   \n",
      "\n",
      "   building:71  building:72  building:73  building:74  building:75  \\\n",
      "1          0.0          0.0          0.0          0.0          0.0   \n",
      "\n",
      "   building:76  building:77  building:78  building:79  building:80  \\\n",
      "1          0.0          0.0          0.0          0.0          0.0   \n",
      "\n",
      "   building:81  building:82  building:83  building:84  building:85  \\\n",
      "1          0.0          0.0          0.0          0.0          0.0   \n",
      "\n",
      "   building:86  building:87  building:88  building:89  building:90  \\\n",
      "1          0.0          0.0          0.0          0.0          0.0   \n",
      "\n",
      "   building:91  building:92  building:93  building:94  building:95  \\\n",
      "1          0.0          0.0          0.0          0.0          0.0   \n",
      "\n",
      "   building:96  building:97  building:98  building:99  building:100  \\\n",
      "1          0.0          0.0          0.0          0.0           0.0   \n",
      "\n",
      "   building:101  building:102  building:103  building:104  building:105  \\\n",
      "1           0.0           0.0           0.0           0.0           0.0   \n",
      "\n",
      "   building:106  building:107  building:108  building:109  building:110  \\\n",
      "1           0.0           0.0           0.0           0.0           0.0   \n",
      "\n",
      "   building:111  building:112  building:113  building:114  building:115  \\\n",
      "1           0.0           0.0           0.0           0.0           0.0   \n",
      "\n",
      "   building:116  building:117  building:118  building:119  building:120  \\\n",
      "1           0.0           0.0           0.0           0.0           0.0   \n",
      "\n",
      "   building:121  building:122  building:123  building:124  building:125  \\\n",
      "1           0.0           0.0           0.0           0.0           0.0   \n",
      "\n",
      "   building:126  building:127  building:128  building:129  building:130  \\\n",
      "1           0.0           0.0           0.0           0.0           0.0   \n",
      "\n",
      "   building:131  building:132  building:133  building:134  building:135  \\\n",
      "1           0.0           0.0           0.0           0.0           0.0   \n",
      "\n",
      "   building:136  building:137  building:138  building:139  building:140  \\\n",
      "1           0.0           0.0           0.0           0.0           0.0   \n",
      "\n",
      "   building:141  building:142  building:143  building:144  building:145  \\\n",
      "1           0.0           0.0           0.0           0.0           0.0   \n",
      "\n",
      "   building:146  building:147  building:148  building:149  building:150  \\\n",
      "1           0.0           0.0           0.0           0.0           0.0   \n",
      "\n",
      "   building:151  building:152  building:153  building:154  building:155  \\\n",
      "1           0.0           0.0           0.0           0.0           0.0   \n",
      "\n",
      "   building:156  building:157  building:158  building:159  building:160  \\\n",
      "1           0.0           0.0           0.0           0.0           0.0   \n",
      "\n",
      "   building:161  building:162  building:163  building:164  building:165  \\\n",
      "1           0.0           0.0           0.0           0.0           0.0   \n",
      "\n",
      "   building:166  building:167  building:168  building:169  building:170  \\\n",
      "1           0.0           0.0           0.0           0.0           0.0   \n",
      "\n",
      "   building:171  building:172  building:173  building:174  building:175  \\\n",
      "1           0.0           0.0           0.0           0.0           0.0   \n",
      "\n",
      "   building:176  building:177  building:178  building:179  building:180  \\\n",
      "1           0.0           0.0           0.0           0.0           0.0   \n",
      "\n",
      "   building:181  building:182  building:183  building:184  building:185  \\\n",
      "1           0.0           0.0           0.0           0.0           0.0   \n",
      "\n",
      "   building:186  building:187  building:188  building:189  building:190  \\\n",
      "1           0.0           0.0           0.0           0.0           0.0   \n",
      "\n",
      "   building:191  building:192  building:193  building:194  building:195  \\\n",
      "1           0.0           0.0           0.0           0.0           0.0   \n",
      "\n",
      "   building:196  building:197  building:198  building:199  building:200  \\\n",
      "1           0.0           0.0           0.0           0.0           0.0   \n",
      "\n",
      "   building:201  building:202  building:203  building:204  building:205  \\\n",
      "1           0.0           0.0           0.0           0.0           0.0   \n",
      "\n",
      "   building:206  building:207  building:208  building:209  building:210  \\\n",
      "1           0.0           0.0           0.0           0.0           0.0   \n",
      "\n",
      "   building:211  building:212  building:213  building:214  building:215  \\\n",
      "1           0.0           0.0           0.0           0.0           0.0   \n",
      "\n",
      "   building:216  building:217  building:218  \n",
      "1           0.0           0.0           0.0  \n"
     ]
    }
   ],
   "source": [
    "X = X.drop(['ZIPCODE', \"TAX_CLASS\"], 1)\n",
    "print(X.head(1))"
   ]
  },
  {
   "cell_type": "markdown",
   "metadata": {},
   "source": [
    "change the price value into 1 or 0, depending on whether it satisfies the given condition."
   ]
  },
  {
   "cell_type": "code",
   "execution_count": 81,
   "metadata": {
    "collapsed": false
   },
   "outputs": [],
   "source": [
    "# Set the upper bound of the price\n",
    "def classify_y(price):\n",
    "    for pos in range(0,8497):\n",
    "        if y.iloc[pos]['SALE_PRICE'] >= price:\n",
    "            y_classified.set_value(pos+1, 'SALE_PRICE', 1)\n",
    "        else: \n",
    "            y_classified.set_value(pos+1, 'SALE_PRICE',0)\n",
    "            \n",
    "# Set the lower bound of the price            \n",
    "def classify_y_down(price):\n",
    "    for pos in range(0,8497):\n",
    "        if y.iloc[pos]['SALE_PRICE'] <= price:\n",
    "            y_classified.set_value(pos+1, 'SALE_PRICE', 1)\n",
    "        else: \n",
    "            y_classified.set_value(pos+1, 'SALE_PRICE',0)\n",
    "            \n",
    "            \n",
    "def classify_y_range(low, high):\n",
    "    for pos in range(0,8497):\n",
    "        if y.iloc[pos]['SALE_PRICE'] <= high & y.iloc[pos]['SALE_PRICE'] >= low:\n",
    "            y_classified.set_value(pos+1, 'SALE_PRICE', 1)\n",
    "        else: \n",
    "            y_classified.set_value(pos+1, 'SALE_PRICE',0)\n",
    "            \n",
    "\n",
    "            "
   ]
  },
  {
   "cell_type": "code",
   "execution_count": 91,
   "metadata": {
    "collapsed": true
   },
   "outputs": [],
   "source": [
    "classify_y_range(250000, 500000)"
   ]
  },
  {
   "cell_type": "markdown",
   "metadata": {},
   "source": [
    "Use Lasso Regularization to predict whether the price falls into certain price category."
   ]
  },
  {
   "cell_type": "code",
   "execution_count": 92,
   "metadata": {
    "collapsed": false
   },
   "outputs": [
    {
     "name": "stdout",
     "output_type": "stream",
     "text": [
      "8.1113083079e-05\n"
     ]
    },
    {
     "data": {
      "text/plain": [
       "<matplotlib.text.Text at 0x26f2fc6ccc0>"
      ]
     },
     "execution_count": 92,
     "metadata": {},
     "output_type": "execute_result"
    },
    {
     "data": {
      "image/png": "[encoded data removed]",
      "text/plain": [
       "<matplotlib.figure.Figure at 0x26f2fce2c18>"
      ]
     },
     "metadata": {},
     "output_type": "display_data"
    }
   ],
   "source": [
    "from sklearn.model_selection import cross_val_score\n",
    "from sklearn.linear_model import Lasso\n",
    "from sklearn.model_selection import train_test_split\n",
    "\n",
    "X_train, X_test, y_train, y_test = train_test_split(\n",
    "    X, y_classified, test_size=0.1, random_state=42)\n",
    "\n",
    "alphas = np.logspace(-5,0,100)\n",
    "scores = []   \n",
    "\n",
    "#best_alpha = alphas[best_alpha_index]\n",
    "train_errors=[]\n",
    "test_errors=[]\n",
    "\n",
    "for alpha in alphas:\n",
    "    regr = Lasso(alpha=alpha)\n",
    "\n",
    "    # Train the model using the training sets\n",
    "    regr.fit(X_train, y_train)\n",
    "    train_errors.append(regr.score(X_train, y_train))\n",
    "    test_errors.append(regr.score(X_test,y_test))\n",
    "\n",
    "best_alpha_index = np.argmax(test_errors)\n",
    "alpha_optim= alphas[best_alpha_index]\n",
    "print(alpha_optim)\n",
    "plt.semilogx(alphas, train_errors, label='Train')\n",
    "plt.semilogx(alphas, test_errors, label='Test')\n",
    "plt.vlines(alpha_optim, plt.ylim()[0], np.max(test_errors), color='k',\n",
    "           linewidth=3, label='Optimum on test')\n",
    "plt.legend(loc='lower left')\n",
    "plt.ylim([0, 1.2])\n",
    "plt.xlabel('Regularization parameter')\n",
    "plt.ylabel('Performance')"
   ]
  },
  {
   "cell_type": "markdown",
   "metadata": {},
   "source": [
    "Use Ridge Regularization to predict whether the price satisfies certain condition."
   ]
  },
  {
   "cell_type": "code",
   "execution_count": 93,
   "metadata": {
    "collapsed": false
   },
   "outputs": [
    {
     "name": "stdout",
     "output_type": "stream",
     "text": [
      "1.0\n"
     ]
    },
    {
     "data": {
      "text/plain": [
       "<matplotlib.text.Text at 0x26f2f88b780>"
      ]
     },
     "execution_count": 93,
     "metadata": {},
     "output_type": "execute_result"
    },
    {
     "data": {
      "image/png": "[encoded data removed]",
      "text/plain": [
       "<matplotlib.figure.Figure at 0x26f2fd8d198>"
      ]
     },
     "metadata": {},
     "output_type": "display_data"
    }
   ],
   "source": [
    "from sklearn.model_selection import cross_val_score\n",
    "from sklearn.linear_model import Ridge\n",
    "from sklearn.model_selection import train_test_split\n",
    "\n",
    "X_train, X_test, y_train, y_test = train_test_split(\n",
    "    X, y_classified, test_size=0.1, random_state=42)\n",
    "\n",
    "alphas = np.logspace(-5,0,100)\n",
    "scores = []   \n",
    "\n",
    "#best_alpha = alphas[best_alpha_index]\n",
    "train_errors=[]\n",
    "test_errors=[]\n",
    "\n",
    "for alpha in alphas:\n",
    "    regr = Ridge(alpha=alpha)\n",
    "\n",
    "    # Train the model using the training sets\n",
    "    regr.fit(X_train, y_train)\n",
    "    train_errors.append(regr.score(X_train, y_train))\n",
    "    test_errors.append(regr.score(X_test,y_test))\n",
    "\n",
    "best_alpha_index = np.argmax(test_errors)\n",
    "alpha_optim= alphas[best_alpha_index]\n",
    "print(alpha_optim)\n",
    "plt.semilogx(alphas, train_errors, label='Train')\n",
    "plt.semilogx(alphas, test_errors, label='Test')\n",
    "plt.vlines(alpha_optim, plt.ylim()[0], np.max(test_errors), color='k',\n",
    "           linewidth=3, label='Optimum on test')\n",
    "plt.legend(loc='lower left')\n",
    "plt.ylim([0, 1.2])\n",
    "plt.xlabel('Regularization parameter')\n",
    "plt.ylabel('Performance')"
   ]
  },
  {
   "cell_type": "code",
   "execution_count": 94,
   "metadata": {
    "collapsed": false
   },
   "outputs": [
    {
     "name": "stdout",
     "output_type": "stream",
     "text": [
      "Area under the ROC curve : 0.478632\n",
      "Area under the ROC curve : 0.496247\n",
      "Area under the ROC curve : 0.495590\n",
      "Area under the ROC curve : 0.503506\n",
      "best_depth is 4\n",
      "Area under the ROC curve : 0.503506\n"
     ]
    },
    {
     "data": {
      "image/png": "[encoded data removed]",
      "text/plain": [
       "<matplotlib.figure.Figure at 0x26f2fd08c50>"
      ]
     },
     "metadata": {},
     "output_type": "display_data"
    }
   ],
   "source": [
    "from sklearn.tree import DecisionTreeClassifier\n",
    "def generate_auc(X,y,clf_class,**kwargs):\n",
    "    # Construct a kfolds object\n",
    "    random_state = np.random.RandomState(1)\n",
    "    # Construct training and testing set.\n",
    "    X, y = shuffle(X, y_classified, random_state=random_state)\n",
    "    n_samples, n_features = X.shape\n",
    "    half = int(n_samples/1.2)\n",
    "    X_train, X_test = X[:half], X[half:]\n",
    "    y_train, y_test = y[:half], y[half:]\n",
    "    \n",
    "    # Choose SVC classifier.\n",
    "    classifier = clf_class(**kwargs)\n",
    "    probas_ = classifier.fit(X_train, y_train).predict_proba(X_test)\n",
    "    \n",
    "    fpr, tpr, thresholds = roc_curve(y_test, probas_[:, 1])\n",
    "    roc_auc = auc(fpr, tpr)\n",
    "    print (\"Area under the ROC curve : %f\" % roc_auc)\n",
    "    return fpr, tpr, roc_auc, thresholds\n",
    "\n",
    "def generate_ROCplot(fpr,tpr,label,roc_auc):\n",
    "    plt.clf()\n",
    "    plt.plot(fpr, tpr, '.-',label='ROC curve (area = %0.2f)' % roc_auc)\n",
    "    plt.plot([0, 1], [0, 1], 'k--')\n",
    "    plt.xlim([0.0, 1.0])\n",
    "    plt.ylim([0.0, 1.0])\n",
    "    plt.xlabel('False Positive Rate')\n",
    "    plt.ylabel('True Positive Rate')\n",
    "    plt.title('Receiver operating characteristic')\n",
    "    plt.legend(loc=\"lower right\")\n",
    "    plt.show()\n",
    "    \n",
    "    \n",
    "scores = []\n",
    "depths = np.arange(1, 5)\n",
    "for depth in depths:\n",
    "    fpr, tpr, roc_auc, thresholds= generate_auc(X,y,DecisionTreeClassifier,criterion='entropy', max_depth=depth)\n",
    "    scores.append(roc_auc)\n",
    "# plt.plot(alphas,scores)\n",
    "\n",
    "best_depth = depths[np.argmax(scores)]\n",
    "print(\"best_depth is\", best_depth)\n",
    "# Generate ROC  for LR with l1 penalty and C=alpha_best\n",
    "fpr,tpr,roc_auc, thresholds = generate_auc(X,y,DecisionTreeClassifier,criterion='entropy', max_depth=best_depth)\n",
    "# Plots ROC\n",
    "generate_ROCplot(fpr,tpr,'LR',roc_auc)\n",
    "\n"
   ]
  },
  {
   "cell_type": "code",
   "execution_count": 110,
   "metadata": {
    "collapsed": false
   },
   "outputs": [
    {
     "name": "stdout",
     "output_type": "stream",
     "text": [
      "Area under the ROC curve : 0.478632\n",
      "Area under the ROC curve : 0.496247\n",
      "Area under the ROC curve : 0.495590\n",
      "Area under the ROC curve : 0.503506\n",
      "best_depth is 4\n",
      "Area under the ROC curve : 0.503506\n"
     ]
    },
    {
     "data": {
      "image/png": "[encoded data removed]",
      "text/plain": [
       "<matplotlib.figure.Figure at 0x26f30490390>"
      ]
     },
     "metadata": {},
     "output_type": "display_data"
    }
   ],
   "source": [
    "classify_y_range(400000, 500000)\n",
    "\n",
    "scores = []\n",
    "depths = np.arange(1, 5)\n",
    "for depth in depths:\n",
    "    fpr, tpr, roc_auc, thresholds= generate_auc(X,y,DecisionTreeClassifier,criterion='entropy', max_depth=depth)\n",
    "    scores.append(roc_auc)\n",
    "# plt.plot(alphas,scores)\n",
    "\n",
    "best_depth = depths[np.argmax(scores)]\n",
    "print(\"best_depth is\", best_depth)\n",
    "# Generate ROC  for LR with l1 penalty and C=alpha_best\n",
    "fpr,tpr,roc_auc, thresholds = generate_auc(X,y,DecisionTreeClassifier,criterion='entropy', max_depth=best_depth)\n",
    "# Plots ROC\n",
    "generate_ROCplot(fpr,tpr,'LR',roc_auc)\n"
   ]
  },
  {
   "cell_type": "code",
   "execution_count": 96,
   "metadata": {
    "collapsed": true
   },
   "outputs": [],
   "source": [
    "def visualize_tree(tree, feature_names):\n",
    "    \"\"\"Create tree png using graphviz.\n",
    "\n",
    "    Args\n",
    "    ----\n",
    "    tree -- scikit-learn DecsisionTree.\n",
    "    feature_names -- list of feature names.\n",
    "    \"\"\"\n",
    "    with open(\"dt.dot\", 'w') as f:\n",
    "        export_graphviz(tree, out_file=f)\n",
    "\n",
    "    command = [\"dot\", \"-Tpng\", \"dt.dot\", \"-o\", \"dt.png\"]\n",
    "    try:\n",
    "        subprocess.check_call(command)\n",
    "    except:\n",
    "        exit(\"Could not run dot, ie graphviz, to \"\n",
    "             \"produce visualization\")"
   ]
  },
  {
   "cell_type": "code",
   "execution_count": 97,
   "metadata": {
    "collapsed": false
   },
   "outputs": [],
   "source": [
    "from __future__ import print_function\n",
    "from sklearn.tree import DecisionTreeRegressor\n",
    "import os\n",
    "import subprocess\n",
    "\n",
    "import pandas as pd\n",
    "import numpy as np\n",
    "from sklearn.tree import DecisionTreeClassifier, export_graphviz\n",
    "dt=DecisionTreeRegressor(max_depth=5)\n",
    "\n",
    "regr_1 = DecisionTreeRegressor(max_depth=2)\n",
    "regr_1.fit(X, y)\n",
    "\n",
    "visualize_tree(regr_1, feature_names=['x'])"
   ]
  },
  {
   "cell_type": "code",
   "execution_count": 98,
   "metadata": {
    "collapsed": false
   },
   "outputs": [
    {
     "name": "stdout",
     "output_type": "stream",
     "text": [
      "8497\n"
     ]
    }
   ],
   "source": [
    "row_num = X.shape[0]\n",
    "print(row_num)"
   ]
  },
  {
   "cell_type": "code",
   "execution_count": null,
   "metadata": {
    "collapsed": false
   },
   "outputs": [],
   "source": []
  },
  {
   "cell_type": "code",
   "execution_count": null,
   "metadata": {
    "collapsed": true
   },
   "outputs": [],
   "source": []
  }
 ],
 "metadata": {
  "anaconda-cloud": {},
  "kernelspec": {
   "display_name": "Python [default]",
   "language": "python",
   "name": "python3"
  },
  "language_info": {
   "codemirror_mode": {
    "name": "ipython",
    "version": 3
   },
   "file_extension": ".py",
   "mimetype": "text/x-python",
   "name": "python",
   "nbconvert_exporter": "python",
   "pygments_lexer": "ipython3",
   "version": "3.5.2"
  }
 },
 "nbformat": 4,
 "nbformat_minor": 1
}
