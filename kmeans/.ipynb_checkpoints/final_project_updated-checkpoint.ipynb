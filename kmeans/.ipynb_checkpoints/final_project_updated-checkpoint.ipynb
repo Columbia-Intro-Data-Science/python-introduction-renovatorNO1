{
 "cells": [
  {
   "cell_type": "markdown",
   "metadata": {},
   "source": [
    "### Get data"
   ]
  },
  {
   "cell_type": "code",
   "execution_count": 60,
   "metadata": {
    "collapsed": false
   },
   "outputs": [],
   "source": [
    "import pandas as pd\n",
    "import statsmodels.api as sm\n",
    "from sklearn.cross_validation import KFold\n",
    "from sklearn.metrics import confusion_matrix\n",
    "from sklearn.preprocessing import StandardScaler\n",
    "from sklearn.linear_model import LogisticRegression\n",
    "from sklearn.svm import SVC\n",
    "from sklearn.ensemble import RandomForestClassifier as RF\n",
    "from sklearn.neighbors import KNeighborsClassifier as KNN\n",
    "import numpy as np\n",
    "import matplotlib.pyplot as plt\n",
    "from sklearn.metrics import roc_curve, auc\n",
    "from sklearn.utils import shuffle\n",
    "from sklearn.metrics import roc_curve, auc\n",
    "import pylab\n",
    "from sklearn import svm\n",
    "from sklearn.linear_model import LogisticRegression\n",
    "from sklearn.linear_model import Ridge\n",
    "from sklearn.ensemble import RandomForestClassifier\n",
    "import re\n",
    "import pylab as plt\n",
    "import seaborn\n",
    "from sklearn.linear_model import LinearRegression\n",
    "import numpy.random as nprnd\n",
    "pd.set_option('display.max_columns', 500)\n",
    "%matplotlib inline\n",
    "import random"
   ]
  },
  {
   "cell_type": "code",
   "execution_count": 61,
   "metadata": {
    "collapsed": false
   },
   "outputs": [
    {
     "name": "stdout",
     "output_type": "stream",
     "text": [
      "Index(['ZIPCODE', 'RESIDENTIAL_UNITS', 'COMMERCIAL_UNITS', 'GROSS_SQUARE_FEET',\n",
      "       'AGE', 'TAX_CLASS', 'SALE_PRICE'],\n",
      "      dtype='object')\n"
     ]
    }
   ],
   "source": [
    "df = pd.read_csv('brooklyn_clean_final.csv', index_col=0)\n",
    "print(df.columns)\n",
    "\n",
    "X = df.drop(['SALE_PRICE'], 1)\n",
    "y = df[['SALE_PRICE']]\n",
    "y_classified = y.copy(True)\n",
    "row_num = X.shape[0]\n",
    "\n",
    "#print(X['11228'])  \n",
    "#print(X.head(100))\n",
    "\n",
    "def add_zipcode(zipcodes):\n",
    "    for zipcode in zipcodes:\n",
    "        zeros = np.zeros(row_num+1)\n",
    "        s = pd.Series(zeros)\n",
    "        key = str(zipcode)\n",
    "        X[key] = s\n",
    "        for pos in range(0,row_num):\n",
    "            if X.iloc[pos]['ZIPCODE'] == zipcode:\n",
    "                X.set_value(pos+1, key, 1)\n",
    "                \n",
    "def add_taxclass(taxclass):\n",
    "    for tax in taxclass:\n",
    "        zeros = np.zeros(row_num+1)\n",
    "        s = pd.Series(zeros)\n",
    "        key = str(tax)\n",
    "        X[\"TAX:\"+key] = s\n",
    "        for pos in range(0,row_num):\n",
    "            if X.iloc[pos]['TAX_CLASS'] == tax:\n",
    "                X.set_value(pos+1, \"TAX:\"+key, 1)\n",
    "                \n",
    "\n",
    "def add_buildingclass(buildingclass):\n",
    "    for building in buildingclass:\n",
    "        zeros = np.zeros(row_num+1)\n",
    "        s = pd.Series(zeros)\n",
    "        key = str(building)\n",
    "        X[\"building:\"+key] = s\n",
    "        for pos in range(0,row_num):\n",
    "            if X.iloc[pos]['TAX_CLASS'] == building:\n",
    "                X.set_value(pos+1, \"building:\"+key, 1)\n",
    "\n",
    "zipcodes = [11239, 11236,11208,11207,11234,11203,11212,11224,11210,\n",
    "            11229,11233,11228,11204,11214,11221,11209,11235,11213,11223,11220,\n",
    "            11219,11218,11230,11226,11232,11237,11216,11225,11231,11215,11222,11217,11238,11206,11205,11211,11249,11201]\n",
    "taxclass = [1,2,4]\n",
    "# buildingclass = np.arange(1, 219)\n",
    "\n",
    "\n",
    "add_zipcode(zipcodes)\n",
    "add_taxclass(taxclass)\n",
    "#add_buildingclass(buildingclass)\n"
   ]
  },
  {
   "cell_type": "code",
   "execution_count": 99,
   "metadata": {
    "collapsed": false
   },
   "outputs": [
    {
     "name": "stdout",
     "output_type": "stream",
     "text": [
      "   RESIDENTIAL_UNITS  COMMERCIAL_UNITS  GROSS_SQUARE_FEET  AGE  11239  11236  \\\n",
      "1                  1                 0               1660   87      0      0   \n",
      "\n",
      "   11208  11207  11234  11203  11212  11224  11210  11229  11233  11228  \\\n",
      "1      0      0      0      0      0      0      0      0      0      1   \n",
      "\n",
      "   11204  11214  11221  11209  11235  11213  11223  11220  11219  11218  \\\n",
      "1      0      0      0      0      0      0      0      0      0      0   \n",
      "\n",
      "   11230  11226  11232  11237  11216  11225  11231  11215  11222  11217  \\\n",
      "1      0      0      0      0      0      0      0      0      0      0   \n",
      "\n",
      "   11238  11206  11205  11211  11249  11201  TAX:1  TAX:2  TAX:4  \n",
      "1      0      0      0      0      0      0      1      0      0  \n"
     ]
    }
   ],
   "source": [
    "#X = X.drop(['ZIPCODE','TAX_CLASS'], 1)\n",
    "print(X.head(1))"
   ]
  },
  {
   "cell_type": "markdown",
   "metadata": {},
   "source": [
    "### This is for k means"
   ]
  },
  {
   "cell_type": "code",
   "execution_count": null,
   "metadata": {
    "collapsed": true
   },
   "outputs": [],
   "source": []
  },
  {
   "cell_type": "markdown",
   "metadata": {},
   "source": [
    "change the price value into 1 or 0, depending on whether it satisfies the given condition."
   ]
  },
  {
   "cell_type": "code",
   "execution_count": 100,
   "metadata": {
    "collapsed": false
   },
   "outputs": [],
   "source": [
    "# Set the upper bound of the price\n",
    "def classify_y(price):\n",
    "    for pos in range(0,8497):\n",
    "        if y.iloc[pos]['SALE_PRICE'] >= price:\n",
    "            y_classified.set_value(pos+1, 'SALE_PRICE', 1)\n",
    "        else: \n",
    "            y_classified.set_value(pos+1, 'SALE_PRICE',0)\n",
    "            \n",
    "# Set the lower bound of the price            \n",
    "def classify_y_down(price):\n",
    "    for pos in range(0,8497):\n",
    "        if y.iloc[pos]['SALE_PRICE'] <= price:\n",
    "            y_classified.set_value(pos+1, 'SALE_PRICE', 1)\n",
    "        else: \n",
    "            y_classified.set_value(pos+1, 'SALE_PRICE',0)\n",
    "            \n",
    "            \n",
    "def classify_y_range(low, high):\n",
    "    for pos in range(0,8497):\n",
    "        if y.iloc[pos]['SALE_PRICE'] <= high & y.iloc[pos]['SALE_PRICE'] >= low:\n",
    "            y_classified.set_value(pos+1, 'SALE_PRICE', 1)\n",
    "        else: \n",
    "            y_classified.set_value(pos+1, 'SALE_PRICE',0)\n",
    "            \n",
    "\n",
    "            "
   ]
  },
  {
   "cell_type": "code",
   "execution_count": 64,
   "metadata": {
    "collapsed": true
   },
   "outputs": [],
   "source": [
    "classify_y_range(250000, 500000)"
   ]
  },
  {
   "cell_type": "markdown",
   "metadata": {},
   "source": [
    "Use Lasso Regularization to predict whether the price falls into certain price category."
   ]
  },
  {
   "cell_type": "code",
   "execution_count": 65,
   "metadata": {
    "collapsed": false
   },
   "outputs": [
    {
     "name": "stdout",
     "output_type": "stream",
     "text": [
      "8.1113083079e-05\n"
     ]
    },
    {
     "data": {
      "text/plain": [
       "<matplotlib.text.Text at 0x22ab02bfa90>"
      ]
     },
     "execution_count": 65,
     "metadata": {},
     "output_type": "execute_result"
    },
    {
     "data": {
      "image/png": "[encoded data removed]",
      "text/plain": [
       "<matplotlib.figure.Figure at 0x22ab4320438>"
      ]
     },
     "metadata": {},
     "output_type": "display_data"
    }
   ],
   "source": [
    "from sklearn.model_selection import cross_val_score\n",
    "from sklearn.linear_model import Lasso\n",
    "from sklearn.model_selection import train_test_split\n",
    "\n",
    "X_train, X_test, y_train, y_test = train_test_split(\n",
    "    X, y_classified, test_size=0.1, random_state=42)\n",
    "\n",
    "alphas = np.logspace(-5,0,100)\n",
    "scores = []   \n",
    "\n",
    "#best_alpha = alphas[best_alpha_index]\n",
    "train_errors=[]\n",
    "test_errors=[]\n",
    "\n",
    "for alpha in alphas:\n",
    "    regr = Lasso(alpha=alpha)\n",
    "\n",
    "    # Train the model using the training sets\n",
    "    regr.fit(X_train, y_train)\n",
    "    train_errors.append(regr.score(X_train, y_train))\n",
    "    test_errors.append(regr.score(X_test,y_test))\n",
    "\n",
    "best_alpha_index = np.argmax(test_errors)\n",
    "alpha_optim= alphas[best_alpha_index]\n",
    "print(alpha_optim)\n",
    "plt.semilogx(alphas, train_errors, label='Train')\n",
    "plt.semilogx(alphas, test_errors, label='Test')\n",
    "plt.vlines(alpha_optim, plt.ylim()[0], np.max(test_errors), color='k',\n",
    "           linewidth=3, label='Optimum on test')\n",
    "plt.legend(loc='lower left')\n",
    "plt.ylim([0, 1.2])\n",
    "plt.xlabel('Regularization parameter')\n",
    "plt.ylabel('Performance')"
   ]
  },
  {
   "cell_type": "markdown",
   "metadata": {},
   "source": [
    "Use Ridge Regularization to predict whether the price satisfies certain condition."
   ]
  },
  {
   "cell_type": "code",
   "execution_count": 66,
   "metadata": {
    "collapsed": false
   },
   "outputs": [
    {
     "name": "stdout",
     "output_type": "stream",
     "text": [
      "1.0\n"
     ]
    },
    {
     "data": {
      "text/plain": [
       "<matplotlib.text.Text at 0x22ab4449518>"
      ]
     },
     "execution_count": 66,
     "metadata": {},
     "output_type": "execute_result"
    },
    {
     "data": {
      "image/png": "[encoded data removed]",
      "text/plain": [
       "<matplotlib.figure.Figure at 0x22ab4320dd8>"
      ]
     },
     "metadata": {},
     "output_type": "display_data"
    }
   ],
   "source": [
    "from sklearn.model_selection import cross_val_score\n",
    "from sklearn.linear_model import Ridge\n",
    "from sklearn.model_selection import train_test_split\n",
    "\n",
    "X_train, X_test, y_train, y_test = train_test_split(\n",
    "    X, y_classified, test_size=0.1, random_state=42)\n",
    "\n",
    "alphas = np.logspace(-5,0,100)\n",
    "scores = []   \n",
    "\n",
    "#best_alpha = alphas[best_alpha_index]\n",
    "train_errors=[]\n",
    "test_errors=[]\n",
    "\n",
    "for alpha in alphas:\n",
    "    regr = Ridge(alpha=alpha)\n",
    "\n",
    "    # Train the model using the training sets\n",
    "    regr.fit(X_train, y_train)\n",
    "    train_errors.append(regr.score(X_train, y_train))\n",
    "    test_errors.append(regr.score(X_test,y_test))\n",
    "\n",
    "best_alpha_index = np.argmax(test_errors)\n",
    "alpha_optim= alphas[best_alpha_index]\n",
    "print(alpha_optim)\n",
    "plt.semilogx(alphas, train_errors, label='Train')\n",
    "plt.semilogx(alphas, test_errors, label='Test')\n",
    "plt.vlines(alpha_optim, plt.ylim()[0], np.max(test_errors), color='k',\n",
    "           linewidth=3, label='Optimum on test')\n",
    "plt.legend(loc='lower left')\n",
    "plt.ylim([0, 1.2])\n",
    "plt.xlabel('Regularization parameter')\n",
    "plt.ylabel('Performance')"
   ]
  },
  {
   "cell_type": "code",
   "execution_count": 67,
   "metadata": {
    "collapsed": false
   },
   "outputs": [],
   "source": [
    "# classify_y_range(700000, 1000000)\n",
    "\n",
    "# scores = []\n",
    "# depths = np.arange(1, 5)\n",
    "# for depth in depths:\n",
    "#     fpr, tpr, roc_auc, thresholds= generate_auc(X,y,DecisionTreeClassifier,criterion='entropy', max_depth=depth)\n",
    "#     scores.append(roc_auc)\n",
    "# # plt.plot(alphas,scores)\n",
    "\n",
    "# best_depth = depths[np.argmax(scores)]\n",
    "# print(\"best_depth is\", best_depth)\n",
    "# # Generate ROC  for LR with l1 penalty and C=alpha_best\n",
    "# fpr,tpr,roc_auc, thresholds = generate_auc(X,y,DecisionTreeClassifier,criterion='entropy', max_depth=best_depth)\n",
    "# # Plots ROC\n",
    "# generate_ROCplot(fpr,tpr,'LR',roc_auc)\n"
   ]
  },
  {
   "cell_type": "code",
   "execution_count": 101,
   "metadata": {
    "collapsed": false
   },
   "outputs": [
    {
     "name": "stdout",
     "output_type": "stream",
     "text": [
      "Area under the ROC curve : 0.589698\n",
      "Area under the ROC curve : 0.589227\n",
      "Area under the ROC curve : 0.702617\n",
      "Area under the ROC curve : 0.596888\n",
      "Area under the ROC curve : 0.607732\n",
      "Area under the ROC curve : 0.606554\n",
      "Area under the ROC curve : 0.655116\n",
      "best_depth is 3\n",
      "Area under the ROC curve : 0.655116\n"
     ]
    },
    {
     "data": {
      "image/png": "[encoded data removed]",
      "text/plain": [
       "<matplotlib.figure.Figure at 0x22ab4336400>"
      ]
     },
     "metadata": {},
     "output_type": "display_data"
    }
   ],
   "source": [
    "from sklearn.tree import DecisionTreeClassifier\n",
    "from sklearn.ensemble import RandomForestClassifier\n",
    "\n",
    "\n",
    "def generate_auc(X,y,clf_class,**kwargs):\n",
    "    # Construct a kfolds object\n",
    "    random_state = np.random.RandomState(1)\n",
    "    # Construct training and testing set.\n",
    "    X, y = shuffle(X, y, random_state=random_state)\n",
    "    n_samples, n_features = X.shape\n",
    "    half = int(n_samples/1.2)\n",
    "    X_train, X_test = X[:half], X[half:]\n",
    "    y_train, y_test = y[:half], y[half:]\n",
    "    \n",
    "    # Choose SVC classifier.\n",
    "    classifier = clf_class(**kwargs)\n",
    "    probas_ = classifier.fit(X_train, y_train).predict_proba(X_test)\n",
    "    \n",
    "    fpr, tpr, thresholds = roc_curve(y_test, probas_[:, 1])\n",
    "    roc_auc = auc(fpr, tpr)\n",
    "    print (\"Area under the ROC curve : %f\" % roc_auc)\n",
    "    return fpr, tpr, roc_auc, thresholds\n",
    "\n",
    "def generate_ROCplot(fpr,tpr,label,roc_auc):\n",
    "    plt.clf()\n",
    "    plt.plot(fpr, tpr, '.-',label='ROC curve (area = %0.2f)' % roc_auc)\n",
    "    plt.plot([0, 1], [0, 1], 'k--')\n",
    "    plt.xlim([0.0, 1.0])\n",
    "    plt.ylim([0.0, 1.0])\n",
    "    plt.xlabel('False Positive Rate')\n",
    "    plt.ylabel('True Positive Rate')\n",
    "    plt.title('Receiver operating characteristic')\n",
    "    plt.legend(loc=\"lower right\")\n",
    "    plt.show()\n",
    "    \n",
    "classify_y_range(50000, 1000000)\n",
    "\n",
    "#print(y_classified)\n",
    "scores = []\n",
    "depths = np.arange(1, 8)\n",
    "#n_estimators = np.arange(10, 20)\n",
    "#min_sample_leaf = 2\n",
    "\n",
    "for depth in depths:\n",
    "    fpr, tpr, roc_auc, thresholds= generate_auc(X,y_classified,DecisionTreeClassifier,criterion='entropy', max_depth=depth)\n",
    "    scores.append(roc_auc)\n",
    "# plt.plot(alphas,scores)\n",
    "\n",
    "best_depth = depths[np.argmax(scores)]\n",
    "print(\"best_depth is\", best_depth)\n",
    "# Generate ROC  for LR with l1 penalty and C=alpha_best\n",
    "fpr,tpr,roc_auc, thresholds = generate_auc(X,y_classified,DecisionTreeClassifier,criterion='entropy', max_depth=depth)\n",
    "# Plots ROC\n",
    "generate_ROCplot(fpr,tpr,'LR',roc_auc)\n",
    "\n"
   ]
  },
  {
   "cell_type": "code",
   "execution_count": 69,
   "metadata": {
    "collapsed": false
   },
   "outputs": [],
   "source": [
    "# for pos in range(0,8497):\n",
    "#     if y_classified.iloc[pos]['SALE_PRICE'] == 1:\n",
    "#         print(pos)\n",
    "# print(X.iloc[62])"
   ]
  },
  {
   "cell_type": "code",
   "execution_count": 70,
   "metadata": {
    "collapsed": true
   },
   "outputs": [],
   "source": [
    "\n",
    "def visualize_tree(tree, feature_names):\n",
    "    \"\"\"Create tree png using graphviz.\n",
    "\n",
    "    Args\n",
    "    ----\n",
    "    tree -- scikit-learn DecsisionTree.\n",
    "    feature_names -- list of feature names.\n",
    "    \"\"\"\n",
    "    with open(\"dt.dot\", 'w') as f:\n",
    "        export_graphviz(tree, out_file=f)\n",
    "\n",
    "    command = [\"dot\", \"-Tpng\", \"dt.dot\", \"-o\", \"dt.png\"]\n",
    "    try:\n",
    "        subprocess.check_call(command)\n",
    "    except:\n",
    "        exit(\"Could not run dot, ie graphviz, to \"\n",
    "             \"produce visualization\")"
   ]
  },
  {
   "cell_type": "code",
   "execution_count": 74,
   "metadata": {
    "collapsed": false
   },
   "outputs": [
    {
     "name": "stderr",
     "output_type": "stream",
     "text": [
      "C:\\Users\\lucas\\Anaconda3\\lib\\site-packages\\ipykernel\\__main__.py:23: DataConversionWarning: A column-vector y was passed when a 1d array was expected. Please change the shape of y to (n_samples,), for example using ravel().\n"
     ]
    },
    {
     "data": {
      "text/plain": [
       "RandomForestRegressor(bootstrap=True, criterion='mse', max_depth=None,\n",
       "           max_features='auto', max_leaf_nodes=None,\n",
       "           min_impurity_split=1e-07, min_samples_leaf=1,\n",
       "           min_samples_split=2, min_weight_fraction_leaf=0.0,\n",
       "           n_estimators=10, n_jobs=1, oob_score=False, random_state=None,\n",
       "           verbose=0, warm_start=False)"
      ]
     },
     "execution_count": 74,
     "metadata": {},
     "output_type": "execute_result"
    }
   ],
   "source": [
    "from __future__ import print_function\n",
    "from sklearn.tree import DecisionTreeRegressor\n",
    "import os\n",
    "import subprocess\n",
    "\n",
    "import pandas as pd\n",
    "import numpy as np\n",
    "from sklearn.tree import DecisionTreeClassifier, export_graphviz\n",
    "\n",
    "from sklearn.ensemble import RandomForestRegressor\n",
    "\n",
    "# dt=DecisionTreeRegressor(max_depth=5)\n",
    "\n",
    "classify_y_range(750000, 1000000)\n",
    "\n",
    "# regr_2 = DecisionTreeClassifier(max_depth=3,criterion='entropy')\n",
    "# regr_2.fit(X, y_classified)\n",
    "\n",
    "regr_1 = DecisionTreeRegressor(max_depth=3)\n",
    "regr_1.fit(X, y)\n",
    "\n",
    "regr_3 = RandomForestRegressor(n_estimators=10, min_samples_split=2)\n",
    "regr_3.fit(X, y)\n",
    "#visualize_tree(regr_1, feature_names=['x'])\n",
    "\n"
   ]
  },
  {
   "cell_type": "code",
   "execution_count": 87,
   "metadata": {
    "collapsed": false
   },
   "outputs": [
    {
     "name": "stdout",
     "output_type": "stream",
     "text": [
      "Index(['RESIDENTIAL_UNITS', 'COMMERCIAL_UNITS', 'GROSS_SQUARE_FEET', 'AGE',\n",
      "       '11239', '11236', '11208', '11207', '11234', '11203', '11212', '11224',\n",
      "       '11210', '11229', '11233', '11228', '11204', '11214', '11221', '11209',\n",
      "       '11235', '11213', '11223', '11220', '11219', '11218', '11230', '11226',\n",
      "       '11232', '11237', '11216', '11225', '11231', '11215', '11222', '11217',\n",
      "       '11238', '11206', '11205', '11211', '11249', '11201', 'TAX:1', 'TAX:2',\n",
      "       'TAX:4'],\n",
      "      dtype='object')\n"
     ]
    }
   ],
   "source": [
    "col = X.columns\n",
    "print(col)"
   ]
  },
  {
   "cell_type": "code",
   "execution_count": 93,
   "metadata": {
    "collapsed": false
   },
   "outputs": [
    {
     "data": {
      "text/html": [
       "<div>\n",
       "<table border=\"1\" class=\"dataframe\">\n",
       "  <thead>\n",
       "    <tr style=\"text-align: right;\">\n",
       "      <th></th>\n",
       "      <th>11201</th>\n",
       "      <th>11203</th>\n",
       "      <th>11204</th>\n",
       "      <th>11205</th>\n",
       "      <th>11206</th>\n",
       "      <th>11207</th>\n",
       "      <th>11208</th>\n",
       "      <th>11209</th>\n",
       "      <th>11210</th>\n",
       "      <th>11211</th>\n",
       "      <th>11212</th>\n",
       "      <th>11213</th>\n",
       "      <th>11214</th>\n",
       "      <th>11215</th>\n",
       "      <th>11216</th>\n",
       "      <th>11217</th>\n",
       "      <th>11218</th>\n",
       "      <th>11219</th>\n",
       "      <th>11220</th>\n",
       "      <th>11221</th>\n",
       "      <th>11222</th>\n",
       "      <th>11223</th>\n",
       "      <th>11224</th>\n",
       "      <th>11225</th>\n",
       "      <th>11226</th>\n",
       "      <th>11228</th>\n",
       "      <th>11229</th>\n",
       "      <th>11230</th>\n",
       "      <th>11231</th>\n",
       "      <th>11232</th>\n",
       "      <th>11233</th>\n",
       "      <th>11234</th>\n",
       "      <th>11235</th>\n",
       "      <th>11236</th>\n",
       "      <th>11237</th>\n",
       "      <th>11238</th>\n",
       "      <th>11239</th>\n",
       "      <th>11249</th>\n",
       "      <th>AGE</th>\n",
       "      <th>COMMERCIAL_UNITS</th>\n",
       "      <th>GROSS_SQUARE_FEET</th>\n",
       "      <th>RESIDENTIAL_UNITS</th>\n",
       "      <th>TAX:1</th>\n",
       "      <th>TAX:2</th>\n",
       "      <th>TAX:4</th>\n",
       "    </tr>\n",
       "  </thead>\n",
       "  <tbody>\n",
       "    <tr>\n",
       "      <th>0</th>\n",
       "      <td>0</td>\n",
       "      <td>1</td>\n",
       "      <td>0</td>\n",
       "      <td>0</td>\n",
       "      <td>0</td>\n",
       "      <td>0</td>\n",
       "      <td>0</td>\n",
       "      <td>0</td>\n",
       "      <td>0</td>\n",
       "      <td>0</td>\n",
       "      <td>0</td>\n",
       "      <td>0</td>\n",
       "      <td>0</td>\n",
       "      <td>0</td>\n",
       "      <td>0</td>\n",
       "      <td>0</td>\n",
       "      <td>0</td>\n",
       "      <td>1</td>\n",
       "      <td>0</td>\n",
       "      <td>0</td>\n",
       "      <td>0</td>\n",
       "      <td>0</td>\n",
       "      <td>0</td>\n",
       "      <td>0</td>\n",
       "      <td>0</td>\n",
       "      <td>0</td>\n",
       "      <td>0</td>\n",
       "      <td>0</td>\n",
       "      <td>0</td>\n",
       "      <td>0</td>\n",
       "      <td>0</td>\n",
       "      <td>0</td>\n",
       "      <td>0</td>\n",
       "      <td>0</td>\n",
       "      <td>0</td>\n",
       "      <td>0</td>\n",
       "      <td>0</td>\n",
       "      <td>0</td>\n",
       "      <td>0</td>\n",
       "      <td>0</td>\n",
       "      <td>10000</td>\n",
       "      <td>0</td>\n",
       "      <td>1</td>\n",
       "      <td>0</td>\n",
       "      <td>0</td>\n",
       "    </tr>\n",
       "  </tbody>\n",
       "</table>\n",
       "</div>"
      ],
      "text/plain": [
       "   11201  11203  11204  11205  11206  11207  11208  11209  11210  11211  \\\n",
       "0      0      1      0      0      0      0      0      0      0      0   \n",
       "\n",
       "   11212  11213  11214  11215  11216  11217  11218  11219  11220  11221  \\\n",
       "0      0      0      0      0      0      0      0      1      0      0   \n",
       "\n",
       "   11222  11223  11224  11225  11226  11228  11229  11230  11231  11232  \\\n",
       "0      0      0      0      0      0      0      0      0      0      0   \n",
       "\n",
       "   11233  11234  11235  11236  11237  11238  11239  11249  AGE  \\\n",
       "0      0      0      0      0      0      0      0      0    0   \n",
       "\n",
       "   COMMERCIAL_UNITS  GROSS_SQUARE_FEET  RESIDENTIAL_UNITS  TAX:1  TAX:2  TAX:4  \n",
       "0                 0              10000                  0      1      0      0  "
      ]
     },
     "execution_count": 93,
     "metadata": {},
     "output_type": "execute_result"
    }
   ],
   "source": [
    "data = {'RESIDENTIAL_UNITS':0, 'COMMERCIAL_UNITS':0, 'GROSS_SQUARE_FEET':10000, 'AGE':0, '11239':0,'11236':0,'11208':0,'11207':0,'11234':0,'11203':1,'11212':0,'11224':0,'11210':0,'11229':0,'11233':0,'11228':0,'11204':0,'11214':0,'11221':0,'11209':0,'11235':0,'11213':0,'11223':0,'11220':0,\n",
    "             '11219':1,'11218':0,'11230':0,'11226':0,'11232':0,'11237':0,'11216':0,'11225':0,'11231':0,'11215':0,'11222':0,'11217':0,'11238':0,'11206':0,'11205':0,'11211':0,'11249':0,'11201':0,'TAX:1':1,'TAX:2':0,'TAX:4':0}\n",
    "\n",
    "#data={'ZIPCODE':11239,'RESIDENTIAL_UNITS':1, 'COMMERCIAL_UNITS':1, 'GROSS_SQUARE_FEET':1000,'AGE':0,'TAX_CLASS':1}  \n",
    "\n",
    "#id_f = {s: data[s] for s in col}\n",
    "df_user=pd.DataFrame(data=data, \n",
    "                     index=np.arange(1)\n",
    "                    )\n",
    "df_user.head(1)\n",
    "#print(df_user.dtypes)"
   ]
  },
  {
   "cell_type": "code",
   "execution_count": 94,
   "metadata": {
    "collapsed": false
   },
   "outputs": [
    {
     "data": {
      "text/plain": [
       "array([ 909937.76234522])"
      ]
     },
     "execution_count": 94,
     "metadata": {},
     "output_type": "execute_result"
    }
   ],
   "source": [
    "regr_1.predict(df_user)"
   ]
  },
  {
   "cell_type": "code",
   "execution_count": null,
   "metadata": {
    "collapsed": true
   },
   "outputs": [],
   "source": []
  }
 ],
 "metadata": {
  "anaconda-cloud": {},
  "kernelspec": {
   "display_name": "Python [default]",
   "language": "python",
   "name": "python3"
  },
  "language_info": {
   "codemirror_mode": {
    "name": "ipython",
    "version": 3
   },
   "file_extension": ".py",
   "mimetype": "text/x-python",
   "name": "python",
   "nbconvert_exporter": "python",
   "pygments_lexer": "ipython3",
   "version": "3.5.2"
  }
 },
 "nbformat": 4,
 "nbformat_minor": 1
}
