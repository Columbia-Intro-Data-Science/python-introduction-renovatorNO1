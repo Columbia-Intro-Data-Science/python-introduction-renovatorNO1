{
 "cells": [
  {
   "cell_type": "markdown",
   "metadata": {},
   "source": [
    "### Get data"
   ]
  },
  {
   "cell_type": "code",
   "execution_count": 2,
   "metadata": {
    "collapsed": false
   },
   "outputs": [
    {
     "name": "stderr",
     "output_type": "stream",
     "text": [
      "C:\\Users\\lucas\\Anaconda3\\lib\\site-packages\\sklearn\\cross_validation.py:44: DeprecationWarning: This module was deprecated in version 0.18 in favor of the model_selection module into which all the refactored classes and functions are moved. Also note that the interface of the new CV iterators are different from that of this module. This module will be removed in 0.20.\n",
      "  \"This module will be removed in 0.20.\", DeprecationWarning)\n"
     ]
    }
   ],
   "source": [
    "import pandas as pd\n",
    "import statsmodels.api as sm\n",
    "from sklearn.cross_validation import KFold\n",
    "from sklearn.metrics import confusion_matrix\n",
    "from sklearn.preprocessing import StandardScaler\n",
    "from sklearn.linear_model import LogisticRegression\n",
    "from sklearn.svm import SVC\n",
    "from sklearn.ensemble import RandomForestClassifier as RF\n",
    "from sklearn.neighbors import KNeighborsClassifier as KNN\n",
    "import numpy as np\n",
    "import matplotlib.pyplot as plt\n",
    "from sklearn.metrics import roc_curve, auc\n",
    "from sklearn.utils import shuffle\n",
    "from sklearn.metrics import roc_curve, auc\n",
    "import pylab\n",
    "from sklearn import svm\n",
    "from sklearn.linear_model import LogisticRegression\n",
    "from sklearn.linear_model import Ridge\n",
    "from sklearn.ensemble import RandomForestClassifier\n",
    "import re\n",
    "import pylab as plt\n",
    "import seaborn\n",
    "from sklearn.linear_model import LinearRegression\n",
    "import numpy.random as nprnd\n",
    "pd.set_option('display.max_columns', 500)\n",
    "%matplotlib inline\n",
    "import random"
   ]
  },
  {
   "cell_type": "code",
   "execution_count": 3,
   "metadata": {
    "collapsed": false
   },
   "outputs": [
    {
     "name": "stdout",
     "output_type": "stream",
     "text": [
      "Index(['ZIPCODE', 'RESIDENTIAL_UNITS', 'COMMERCIAL_UNITS', 'GROSS_SQUARE_FEET',\n",
      "       'AGE', 'TAX_CLASS', 'SALE_PRICE'],\n",
      "      dtype='object')\n"
     ]
    }
   ],
   "source": [
    "df = pd.read_csv('../brooklyn_clean_final.csv', index_col=0)\n",
    "print(df.columns)\n",
    "\n",
    "X = df.drop(['SALE_PRICE'], 1)\n",
    "y = df[['SALE_PRICE']]\n",
    "y_classified = y.copy(True)\n",
    "row_num = X.shape[0]\n",
    "\n",
    "#print(X['11228'])  \n",
    "#print(X.head(100))\n",
    "\n",
    "def add_zipcode(zipcodes):\n",
    "    for zipcode in zipcodes:\n",
    "        zeros = np.zeros(row_num+1)\n",
    "        s = pd.Series(zeros)\n",
    "        key = str(zipcode)\n",
    "        X[key] = s\n",
    "        for pos in range(0,row_num):\n",
    "            if X.iloc[pos]['ZIPCODE'] == zipcode:\n",
    "                X.set_value(pos+1, key, 1)\n",
    "                \n",
    "def add_taxclass(taxclass):\n",
    "    for tax in taxclass:\n",
    "        zeros = np.zeros(row_num+1)\n",
    "        s = pd.Series(zeros)\n",
    "        key = str(tax)\n",
    "        X[\"TAX:\"+key] = s\n",
    "        for pos in range(0,row_num):\n",
    "            if X.iloc[pos]['TAX_CLASS'] == tax:\n",
    "                X.set_value(pos+1, \"TAX:\"+key, 1)\n",
    "                \n",
    "\n",
    "def add_buildingclass(buildingclass):\n",
    "    for building in buildingclass:\n",
    "        zeros = np.zeros(row_num+1)\n",
    "        s = pd.Series(zeros)\n",
    "        key = str(building)\n",
    "        X[\"building:\"+key] = s\n",
    "        for pos in range(0,row_num):\n",
    "            if X.iloc[pos]['TAX_CLASS'] == building:\n",
    "                X.set_value(pos+1, \"building:\"+key, 1)\n",
    "\n",
    "zipcodes = [11239, 11236,11208,11207,11234,11203,11212,11224,11210,\n",
    "            11229,11233,11228,11204,11214,11221,11209,11235,11213,11223,11220,\n",
    "            11219,11218,11230,11226,11232,11237,11216,11225,11231,11215,11222,11217,11238,11206,11205,11211,11249,11201]\n",
    "taxclass = [1,2,4]\n",
    "\n",
    "\n",
    "\n",
    "add_zipcode(zipcodes)\n",
    "add_taxclass(taxclass)\n",
    "\n",
    "# buildingclass = np.arange(1, 219)\n",
    "#add_buildingclass(buildingclass)\n"
   ]
  },
  {
   "cell_type": "code",
   "execution_count": 4,
   "metadata": {
    "collapsed": false
   },
   "outputs": [
    {
     "name": "stdout",
     "output_type": "stream",
     "text": [
      "   RESIDENTIAL_UNITS  COMMERCIAL_UNITS  GROSS_SQUARE_FEET  AGE  11239  11236  \\\n",
      "1                  1                 0               1660   87      0      0   \n",
      "\n",
      "   11208  11207  11234  11203  11212  11224  11210  11229  11233  11228  \\\n",
      "1      0      0      0      0      0      0      0      0      0      1   \n",
      "\n",
      "   11204  11214  11221  11209  11235  11213  11223  11220  11219  11218  \\\n",
      "1      0      0      0      0      0      0      0      0      0      0   \n",
      "\n",
      "   11230  11226  11232  11237  11216  11225  11231  11215  11222  11217  \\\n",
      "1      0      0      0      0      0      0      0      0      0      0   \n",
      "\n",
      "   11238  11206  11205  11211  11249  11201  TAX:1  TAX:2  TAX:4  \n",
      "1      0      0      0      0      0      0      1      0      0  \n"
     ]
    }
   ],
   "source": [
    "X = X.drop(['ZIPCODE','TAX_CLASS'], 1)\n",
    "print(X.head(1))"
   ]
  },
  {
   "cell_type": "markdown",
   "metadata": {},
   "source": [
    "change the price value into 1 or 0, depending on whether it satisfies the given condition."
   ]
  },
  {
   "cell_type": "code",
   "execution_count": 5,
   "metadata": {
    "collapsed": false
   },
   "outputs": [],
   "source": [
    "# Set the lower bound of the price\n",
    "def classify_y(price):\n",
    "    for pos in range(0,8497):\n",
    "        if y.iloc[pos]['SALE_PRICE'] >= price:\n",
    "            if pos < 6:\n",
    "                print((pos, 1))\n",
    "            y_classified.set_value(pos+1, 'SALE_PRICE', 1)\n",
    "        else: \n",
    "            y_classified.set_value(pos+1, 'SALE_PRICE',0)\n",
    "            \n",
    "# Set the upper bound of the price            \n",
    "def classify_y_down(price):\n",
    "    for pos in range(0,8497):\n",
    "        if y.iloc[pos]['SALE_PRICE'] <= price:\n",
    "            y_classified.set_value(pos+1, 'SALE_PRICE', 1)\n",
    "        else: \n",
    "            y_classified.set_value(pos+1, 'SALE_PRICE',0)\n",
    "            \n",
    "            \n",
    "def classify_y_range(low, high):\n",
    "    for pos in range(0,8497):\n",
    "        if y.iloc[pos]['SALE_PRICE'] <= high and y.iloc[pos]['SALE_PRICE'] >= low:\n",
    "            y_classified.set_value(pos+1, 'SALE_PRICE', 1)\n",
    "        else: \n",
    "            y_classified.set_value(pos+1, 'SALE_PRICE',0)\n",
    "            \n",
    "            \n",
    "def classify_ranges():\n",
    "    for pos in range(0,8497):\n",
    "        if y.iloc[pos]['SALE_PRICE'] <= 200000 and y.iloc[pos]['SALE_PRICE'] >= 0:\n",
    "            y_classified.set_value(pos+1, 'SALE_PRICE', 1)\n",
    "        elif y.iloc[pos]['SALE_PRICE'] <= 400000 and y.iloc[pos]['SALE_PRICE'] >= 200000: \n",
    "            y_classified.set_value(pos+1, 'SALE_PRICE',2)\n",
    "        elif y.iloc[pos]['SALE_PRICE'] <= 600000 and y.iloc[pos]['SALE_PRICE'] >= 400000: \n",
    "            y_classified.set_value(pos+1, 'SALE_PRICE',3)\n",
    "        elif y.iloc[pos]['SALE_PRICE'] <= 800000 and y.iloc[pos]['SALE_PRICE'] >= 600000: \n",
    "            y_classified.set_value(pos+1, 'SALE_PRICE',4)\n",
    "        elif y.iloc[pos]['SALE_PRICE'] <= 1000000 and y.iloc[pos]['SALE_PRICE'] >= 800000: \n",
    "            y_classified.set_value(pos+1, 'SALE_PRICE',5)\n",
    "        else: \n",
    "            y_classified.set_value(pos+1, 'SALE_PRICE',6)\n",
    "            \n",
    "    \n",
    "            \n",
    "\n",
    "            "
   ]
  },
  {
   "cell_type": "code",
   "execution_count": 6,
   "metadata": {
    "collapsed": false
   },
   "outputs": [],
   "source": [
    "# classify_y_range(100000, 1000000)\n",
    "# classify_y(1000000)\n",
    "classify_ranges()"
   ]
  },
  {
   "cell_type": "markdown",
   "metadata": {},
   "source": [
    "### This is for K means"
   ]
  },
  {
   "cell_type": "code",
   "execution_count": 7,
   "metadata": {
    "collapsed": false
   },
   "outputs": [
    {
     "name": "stdout",
     "output_type": "stream",
     "text": [
      "[1 2 3 4 5 6]\n",
      "n_digits: 6, \t n_samples 8497, \t n_features 45\n",
      "_______________________________________________________________________________\n",
      "init    time  inertia    homo   compl  v-meas     ARI AMI  silhouette\n",
      "k-means++   0.46s    329687   0.070   0.107   0.085   0.012   0.069    0.043\n",
      "_______________________________________________________________________________\n"
     ]
    }
   ],
   "source": [
    "from time import time\n",
    "import numpy as np\n",
    "import matplotlib.pyplot as plt\n",
    "\n",
    "from sklearn import metrics\n",
    "from sklearn.cluster import KMeans\n",
    "from sklearn.datasets import load_digits\n",
    "from sklearn.decomposition import PCA\n",
    "from sklearn.preprocessing import scale\n",
    "\n",
    "np.random.seed(42)\n",
    "\n",
    "#digits = load_digits()\n",
    "data = scale(X.values)\n",
    "\n",
    "n_samples, n_features = data.shape\n",
    "n_digits = len(np.unique(y_classified.values))\n",
    "labels = (y_classified.values).flatten('F')\n",
    "\n",
    "target_names =np.unique(labels)\n",
    "print(target_names)\n",
    "\n",
    "# This might cause some issues\n",
    "sample_size = 8497\n",
    "\n",
    "print(\"n_digits: %d, \\t n_samples %d, \\t n_features %d\"\n",
    "      % (n_digits, n_samples, n_features))\n",
    "\n",
    "\n",
    "print(79 * '_')\n",
    "print('% 9s' % 'init'\n",
    "      '    time  inertia    homo   compl  v-meas     ARI AMI  silhouette')\n",
    "\n",
    "\n",
    "def bench_k_means(estimator, name, data):\n",
    "    t0 = time()\n",
    "    estimator.fit(data)\n",
    "    print('% 9s   %.2fs    %i   %.3f   %.3f   %.3f   %.3f   %.3f    %.3f'\n",
    "          % (name, (time() - t0), estimator.inertia_,\n",
    "             metrics.homogeneity_score(labels, estimator.labels_),\n",
    "             metrics.completeness_score(labels, estimator.labels_),\n",
    "             metrics.v_measure_score(labels, estimator.labels_),\n",
    "             metrics.adjusted_rand_score(labels, estimator.labels_),\n",
    "             metrics.adjusted_mutual_info_score(labels,  estimator.labels_),\n",
    "             metrics.silhouette_score(data, estimator.labels_,\n",
    "                                      metric='euclidean',\n",
    "                                      sample_size=sample_size)))\n",
    "    return estimator\n",
    "\n",
    "k_means = bench_k_means(KMeans(init='k-means++', n_clusters=n_digits, n_init=10),\n",
    "              name=\"k-means++\", data=data)\n",
    "\n",
    "# bench_k_means(KMeans(init='random', n_clusters=n_digits, n_init=10),\n",
    "#               name=\"random\", data=data)\n",
    "\n",
    "# in this case the seeding of the centers is deterministic, hence we run the\n",
    "# kmeans algorithm only once with n_init=1\n",
    "# pca = PCA(n_components=n_digits).fit(data)\n",
    "# bench_k_means(KMeans(init=pca.components_, n_clusters=n_digits, n_init=1),\n",
    "#               name=\"PCA-based\",\n",
    "#               data=data)\n",
    "print(79 * '_')\n",
    "\n"
   ]
  },
  {
   "cell_type": "code",
   "execution_count": 9,
   "metadata": {
    "collapsed": false
   },
   "outputs": [
    {
     "data": {
      "image/png": "[encoded data removed]",
      "text/plain": [
       "<matplotlib.figure.Figure at 0x19b001dbcc0>"
      ]
     },
     "metadata": {},
     "output_type": "display_data"
    }
   ],
   "source": [
    "reduced_data = PCA(n_components=2).fit_transform(data)\n",
    "kmeans = KMeans(init='k-means++', n_clusters=n_digits, n_init=10)\n",
    "kmeans.fit(reduced_data)\n",
    "\n",
    "# Step size of the mesh. Decrease to increase the quality of the VQ.\n",
    "h = .02     # point in the mesh [x_min, x_max]x[y_min, y_max].\n",
    "\n",
    "# Plot the decision boundary. For that, we will assign a color to each\n",
    "x_min, x_max = reduced_data[:, 0].min() - 1, reduced_data[:, 0].max() + 1\n",
    "y_min, y_max = reduced_data[:, 1].min() - 1, reduced_data[:, 1].max() + 1\n",
    "xx, yy = np.meshgrid(np.arange(x_min, x_max, h), np.arange(y_min, y_max, h))\n",
    "\n",
    "# Obtain labels for each point in mesh. Use last trained model.\n",
    "Z = kmeans.predict(np.c_[xx.ravel(), yy.ravel()])\n",
    "\n",
    "# Put the result into a color plot\n",
    "Z = Z.reshape(xx.shape)\n",
    "plt.figure(1)\n",
    "plt.clf()\n",
    "plt.imshow(Z, interpolation='nearest',\n",
    "           extent=(xx.min(), xx.max(), yy.min(), yy.max()),\n",
    "           cmap=plt.cm.Paired,\n",
    "           aspect='auto', origin='lower')\n",
    "\n",
    "colors = ['black', 'blue', 'purple', 'yellow', 'white', 'red', 'lime', 'cyan', 'orange', 'gray']\n",
    "#plt.plot(reduced_data[:, 0], reduced_data[:, 1], 'k.', markersize=2)\n",
    "for i in range(len(colors)):\n",
    "    x = reduced_data[:, 0][labels == i] #replace digits.target with labels becauset they are the same thing in the other notebook\n",
    "    y = reduced_data[:, 1][labels == i]\n",
    "    \n",
    "    x = reduced_data[:, 0][kmeans.labels_ == i]\n",
    "    y = reduced_data[:, 1][kmeans.labels_ == i]\n",
    "    plt.scatter(x, y, c=colors[i])\n",
    "    \n",
    "# Plot the centroids as a white X\n",
    "centroids = kmeans.cluster_centers_\n",
    "plt.scatter(centroids[:, 0], centroids[:, 1],\n",
    "            marker='x', s=169, linewidths=3,\n",
    "            color='w', zorder=10)\n",
    "\n",
    "plt.legend(target_names, bbox_to_anchor=(1.05, 1), loc=2, borderaxespad=0.)\n",
    "\n",
    "plt.title('K-means clustering on the digits dataset (PCA-reduced data)\\n'\n",
    "          'Centroids are marked with white cross')\n",
    "plt.xlim(x_min, x_max)\n",
    "plt.ylim(y_min, y_max)\n",
    "plt.legend(target_names, bbox_to_anchor=(1.05, 1), loc=2, borderaxespad=0.)\n",
    "plt.xticks(())\n",
    "plt.yticks(())\n",
    "plt.show()"
   ]
  },
  {
   "cell_type": "markdown",
   "metadata": {},
   "source": [
    "### Predict"
   ]
  },
  {
   "cell_type": "code",
   "execution_count": 10,
   "metadata": {
    "collapsed": false
   },
   "outputs": [
    {
     "data": {
      "text/html": [
       "<div>\n",
       "<table border=\"1\" class=\"dataframe\">\n",
       "  <thead>\n",
       "    <tr style=\"text-align: right;\">\n",
       "      <th></th>\n",
       "      <th>11201</th>\n",
       "      <th>11203</th>\n",
       "      <th>11204</th>\n",
       "      <th>11205</th>\n",
       "      <th>11206</th>\n",
       "      <th>11207</th>\n",
       "      <th>11208</th>\n",
       "      <th>11209</th>\n",
       "      <th>11210</th>\n",
       "      <th>11211</th>\n",
       "      <th>11212</th>\n",
       "      <th>11213</th>\n",
       "      <th>11214</th>\n",
       "      <th>11215</th>\n",
       "      <th>11216</th>\n",
       "      <th>11217</th>\n",
       "      <th>11218</th>\n",
       "      <th>11219</th>\n",
       "      <th>11220</th>\n",
       "      <th>11221</th>\n",
       "      <th>11222</th>\n",
       "      <th>11223</th>\n",
       "      <th>11224</th>\n",
       "      <th>11225</th>\n",
       "      <th>11226</th>\n",
       "      <th>11228</th>\n",
       "      <th>11229</th>\n",
       "      <th>11230</th>\n",
       "      <th>11231</th>\n",
       "      <th>11232</th>\n",
       "      <th>11233</th>\n",
       "      <th>11234</th>\n",
       "      <th>11235</th>\n",
       "      <th>11236</th>\n",
       "      <th>11237</th>\n",
       "      <th>11238</th>\n",
       "      <th>11239</th>\n",
       "      <th>11249</th>\n",
       "      <th>AGE</th>\n",
       "      <th>COMMERCIAL_UNITS</th>\n",
       "      <th>GROSS_SQUARE_FEET</th>\n",
       "      <th>RESIDENTIAL_UNITS</th>\n",
       "      <th>TAX:1</th>\n",
       "      <th>TAX:2</th>\n",
       "      <th>TAX:4</th>\n",
       "    </tr>\n",
       "  </thead>\n",
       "  <tbody>\n",
       "    <tr>\n",
       "      <th>0</th>\n",
       "      <td>0</td>\n",
       "      <td>1</td>\n",
       "      <td>0</td>\n",
       "      <td>0</td>\n",
       "      <td>0</td>\n",
       "      <td>0</td>\n",
       "      <td>0</td>\n",
       "      <td>0</td>\n",
       "      <td>0</td>\n",
       "      <td>0</td>\n",
       "      <td>0</td>\n",
       "      <td>0</td>\n",
       "      <td>0</td>\n",
       "      <td>0</td>\n",
       "      <td>0</td>\n",
       "      <td>0</td>\n",
       "      <td>0</td>\n",
       "      <td>1</td>\n",
       "      <td>0</td>\n",
       "      <td>0</td>\n",
       "      <td>0</td>\n",
       "      <td>0</td>\n",
       "      <td>0</td>\n",
       "      <td>0</td>\n",
       "      <td>0</td>\n",
       "      <td>0</td>\n",
       "      <td>0</td>\n",
       "      <td>0</td>\n",
       "      <td>0</td>\n",
       "      <td>0</td>\n",
       "      <td>0</td>\n",
       "      <td>0</td>\n",
       "      <td>0</td>\n",
       "      <td>0</td>\n",
       "      <td>0</td>\n",
       "      <td>0</td>\n",
       "      <td>0</td>\n",
       "      <td>0</td>\n",
       "      <td>0</td>\n",
       "      <td>0</td>\n",
       "      <td>10000</td>\n",
       "      <td>0</td>\n",
       "      <td>1</td>\n",
       "      <td>0</td>\n",
       "      <td>0</td>\n",
       "    </tr>\n",
       "  </tbody>\n",
       "</table>\n",
       "</div>"
      ],
      "text/plain": [
       "   11201  11203  11204  11205  11206  11207  11208  11209  11210  11211  \\\n",
       "0      0      1      0      0      0      0      0      0      0      0   \n",
       "\n",
       "   11212  11213  11214  11215  11216  11217  11218  11219  11220  11221  \\\n",
       "0      0      0      0      0      0      0      0      1      0      0   \n",
       "\n",
       "   11222  11223  11224  11225  11226  11228  11229  11230  11231  11232  \\\n",
       "0      0      0      0      0      0      0      0      0      0      0   \n",
       "\n",
       "   11233  11234  11235  11236  11237  11238  11239  11249  AGE  \\\n",
       "0      0      0      0      0      0      0      0      0    0   \n",
       "\n",
       "   COMMERCIAL_UNITS  GROSS_SQUARE_FEET  RESIDENTIAL_UNITS  TAX:1  TAX:2  TAX:4  \n",
       "0                 0              10000                  0      1      0      0  "
      ]
     },
     "execution_count": 10,
     "metadata": {},
     "output_type": "execute_result"
    }
   ],
   "source": [
    "data = {'RESIDENTIAL_UNITS':0, 'COMMERCIAL_UNITS':0, 'GROSS_SQUARE_FEET':10000, 'AGE':0, '11239':0,'11236':0,'11208':0,'11207':0,'11234':0,'11203':1,'11212':0,'11224':0,'11210':0,'11229':0,'11233':0,'11228':0,'11204':0,'11214':0,'11221':0,'11209':0,'11235':0,'11213':0,'11223':0,'11220':0,\n",
    "             '11219':1,'11218':0,'11230':0,'11226':0,'11232':0,'11237':0,'11216':0,'11225':0,'11231':0,'11215':0,'11222':0,'11217':0,'11238':0,'11206':0,'11205':0,'11211':0,'11249':0,'11201':0,'TAX:1':1,'TAX:2':0,'TAX:4':0}\n",
    "\n",
    "#data={'ZIPCODE':11239,'RESIDENTIAL_UNITS':1, 'COMMERCIAL_UNITS':1, 'GROSS_SQUARE_FEET':1000,'AGE':0,'TAX_CLASS':1}  \n",
    "\n",
    "#id_f = {s: data[s] for s in col}\n",
    "df_user=pd.DataFrame(data=data, \n",
    "                     index=np.arange(1)\n",
    "                    )\n",
    "df_user.head(1)\n",
    "#print(df_user.dtypes)"
   ]
  },
  {
   "cell_type": "code",
   "execution_count": 11,
   "metadata": {
    "collapsed": false
   },
   "outputs": [
    {
     "name": "stdout",
     "output_type": "stream",
     "text": [
      "[2]\n"
     ]
    }
   ],
   "source": [
    "print(k_means.predict(df_user))"
   ]
  }
 ],
 "metadata": {
  "anaconda-cloud": {},
  "kernelspec": {
   "display_name": "Python [default]",
   "language": "python",
   "name": "python3"
  },
  "language_info": {
   "codemirror_mode": {
    "name": "ipython",
    "version": 3
   },
   "file_extension": ".py",
   "mimetype": "text/x-python",
   "name": "python",
   "nbconvert_exporter": "python",
   "pygments_lexer": "ipython3",
   "version": "3.5.2"
  }
 },
 "nbformat": 4,
 "nbformat_minor": 1
}
